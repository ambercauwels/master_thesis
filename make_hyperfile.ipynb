{
 "cells": [
  {
   "cell_type": "markdown",
   "metadata": {},
   "source": [
    "Code for creating text files that are used in hyperopt"
   ]
  },
  {
   "cell_type": "code",
   "execution_count": 1,
   "metadata": {},
   "outputs": [],
   "source": [
    "# import required module\n",
    "import numpy as np\n",
    "import os\n",
    "import matplotlib.pyplot as plt\n",
    "import mplhep as hep\n",
    "import pandas as pd\n",
    "plt.style.use(hep.style.CMS)\n",
    "\n",
    "def read_file(f):\n",
    "    df = pd.read_csv(f, sep=\"\\t\")\n",
    "    return df\n",
    "\n",
    "def get_combined_data(directory):\n",
    "    dfs = [read_file(os.path.join(directory, f)) for f in os.listdir(directory)[:10]]\n",
    "    SumWeight = np.sum([df.sumWeight[0] for df in dfs])\n",
    "    DF = pd.concat(dfs, ignore_index=True)\n",
    "    DF['weights'] = DF.genWeights / SumWeight\n",
    "    return DF\n",
    "\n",
    "def get_ttZ2lDF(path):\n",
    "    DF_ttZ = get_combined_data('{}/output_TTZ'.format(path))\n",
    "    DF_tt = get_combined_data('{}/output_TT1'.format(path))\n",
    "    DF_DY1 = get_combined_data('{}/output_DY1'.format(path))\n",
    "    DF_DY2 = get_combined_data('{}/output_DY2'.format(path))\n",
    "    DF_DY3 = get_combined_data('{}/output_DY3'.format(path))\n",
    "    DF_ZZ2 = get_combined_data('{}/output_ZZ2'.format(path))\n",
    "    DF = pd.concat([DF_ttZ, DF_tt, DF_DY1, DF_DY2, DF_DY3, DF_ZZ2], ignore_index=True)\n",
    "    return DF"
   ]
  },
  {
   "cell_type": "code",
   "execution_count": 2,
   "metadata": {},
   "outputs": [],
   "source": [
    "path = 'ttZ2l/final_results/ttZ2MWPttag'\n",
    "\n",
    "DF = get_ttZ2lDF(path)\n",
    "DF.to_csv('hyperopt/ttZ2l_data.txt', sep='\\t', index=False)"
   ]
  }
 ],
 "metadata": {
  "kernelspec": {
   "display_name": "Python 3",
   "language": "python",
   "name": "python3"
  },
  "language_info": {
   "codemirror_mode": {
    "name": "ipython",
    "version": 3
   },
   "file_extension": ".py",
   "mimetype": "text/x-python",
   "name": "python",
   "nbconvert_exporter": "python",
   "pygments_lexer": "ipython3",
   "version": "3.6.8"
  }
 },
 "nbformat": 4,
 "nbformat_minor": 2
}
